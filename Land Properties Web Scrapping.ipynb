{
 "cells": [
  {
   "cell_type": "markdown",
   "id": "42d1fe35",
   "metadata": {},
   "source": [
    "import relevant libraries and request one webpage content"
   ]
  },
  {
   "cell_type": "code",
   "execution_count": 1,
   "id": "76806e0c",
   "metadata": {},
   "outputs": [],
   "source": [
    "import requests\n",
    "from bs4 import BeautifulSoup\n",
    "\n",
    "r = requests.get('https://www.propertypro.ng/property-for-sale/in/lagos/amuwo-odofin/festac/?search=Festac+%2C+Amuwo+Odofin+%2C+Lagos&auto=Festac+%2C+Amuwo+Odofin+%2C+Lagos&type=&bedroom=&min_price=&max_price=')\n",
    "c=r.content\n",
    "\n",
    "soup=BeautifulSoup(c, 'html.parser')\n",
    "\n",
    "all=soup.find_all('div', {'class': 'single-room-text'})\n"
   ]
  },
  {
   "cell_type": "markdown",
   "id": "15df8aaf",
   "metadata": {},
   "source": [
    "investigate data to acquire correct outputs"
   ]
  },
  {
   "cell_type": "code",
   "execution_count": 2,
   "id": "af52922b",
   "metadata": {},
   "outputs": [
    {
     "data": {
      "text/plain": [
       "[<span content=\"NGN\">₦</span>,\n",
       " <span content=\"5.0E7\">50,000,000</span>,\n",
       " <span><img alt=\"bed-icon\" src=\"/assets/assets/img/resultpage/71e561d192ed8abb553ba6448816466d-beds.svg\" title=\"bed-icon\"/>0 beds</span>,\n",
       " <span><img alt=\"bath-icon\" src=\"/assets/assets/img/resultpage/3945e8adbd5fbe44046a606d2dacd7ca-bath.svg\" title=\"bath-icon\"/>0 baths</span>,\n",
       " <span><img alt=\"toilet-icon\" src=\"/assets/assets/img/resultpage/0a8c8b34dbdfcc7b9d5eaeca83e87ebf-toilet.svg\" title=\"toilet-icon\"/>0 Toilets</span>]"
      ]
     },
     "execution_count": 2,
     "metadata": {},
     "output_type": "execute_result"
    }
   ],
   "source": [
    "all[11].find_all('span')"
   ]
  },
  {
   "cell_type": "code",
   "execution_count": 3,
   "id": "6edb03ed",
   "metadata": {},
   "outputs": [
    {
     "data": {
      "text/plain": [
       "'08081672062'"
      ]
     },
     "execution_count": 3,
     "metadata": {},
     "output_type": "execute_result"
    }
   ],
   "source": [
    "all[0].find('div', {'class', 'phone-icon'}).text.replace('\\n','').replace(' ','')"
   ]
  },
  {
   "cell_type": "code",
   "execution_count": 4,
   "id": "efadf2a2",
   "metadata": {
    "scrolled": true
   },
   "outputs": [
    {
     "data": {
      "text/plain": [
       "'₦26,000,000'"
      ]
     },
     "execution_count": 4,
     "metadata": {},
     "output_type": "execute_result"
    }
   ],
   "source": [
    "all[0].find('h3', {'class', 'listings-price'}).text.replace(' ','')"
   ]
  },
  {
   "cell_type": "markdown",
   "id": "64f397b2",
   "metadata": {},
   "source": [
    "apply method to all pages"
   ]
  },
  {
   "cell_type": "code",
   "execution_count": 5,
   "id": "b993c4c1",
   "metadata": {},
   "outputs": [],
   "source": [
    "#create empty list, l\n",
    "l=[]\n",
    "\n",
    "base_url='https://www.propertypro.ng/property-for-sale/in/lagos/amuwo-odofin/festac/?search=Festac+%2C+Amuwo+Odofin+%2C+Lagos&auto=Festac+%2C+Amuwo+Odofin+%2C+Lagos&type=&bedroom=&min_price=&max_price=&page='\n",
    "\n",
    "#loop through all pages required\n",
    "\n",
    "for page in range(0,26,1):\n",
    "    r=requests.get(base_url+'str(page)')\n",
    "    c=r.content\n",
    "    soup=BeautifulSoup(c, 'html.parser')\n",
    "    all=soup.find_all('div', {'class': 'single-room-text'})\n",
    "    for house in all:\n",
    "        \n",
    "    #create dictionary, d to store outputs\n",
    "        d={}\n",
    "    \n",
    "        d['Description']=house.find('h3',{'class', 'listings-property-title2'}).text\n",
    "        d['Address']=house.find('h4').text\n",
    "        try:\n",
    "            d['Price']=house.find('h3', {'class', 'listings-price'}).text.replace(' ','')\n",
    "        except:\n",
    "            d['Price']='Not available'\n",
    "        d['No of beds']=house.find_all('span')[2].text\n",
    "        d['No of baths']=house.find_all('span')[3].text\n",
    "        d['No of toilets']=house.find_all('span')[4].text\n",
    "        d['Contact']=house.find('div', {'class', 'phone-icon'}).text.replace('\\n','').replace(' ','')\n",
    "        \n",
    "    #append values into list, l\n",
    "        l.append(d)\n",
    "    "
   ]
  },
  {
   "cell_type": "code",
   "execution_count": 6,
   "id": "dc25bb74",
   "metadata": {},
   "outputs": [],
   "source": [
    "import pandas\n",
    "#convert list to dataframe\n",
    "df=pandas.DataFrame(l)"
   ]
  },
  {
   "cell_type": "code",
   "execution_count": 7,
   "id": "c9b2808d",
   "metadata": {},
   "outputs": [
    {
     "data": {
      "text/html": [
       "<div>\n",
       "<style scoped>\n",
       "    .dataframe tbody tr th:only-of-type {\n",
       "        vertical-align: middle;\n",
       "    }\n",
       "\n",
       "    .dataframe tbody tr th {\n",
       "        vertical-align: top;\n",
       "    }\n",
       "\n",
       "    .dataframe thead th {\n",
       "        text-align: right;\n",
       "    }\n",
       "</style>\n",
       "<table border=\"1\" class=\"dataframe\">\n",
       "  <thead>\n",
       "    <tr style=\"text-align: right;\">\n",
       "      <th></th>\n",
       "      <th>Description</th>\n",
       "      <th>Address</th>\n",
       "      <th>Price</th>\n",
       "      <th>No of beds</th>\n",
       "      <th>No of baths</th>\n",
       "      <th>No of toilets</th>\n",
       "      <th>Contact</th>\n",
       "    </tr>\n",
       "  </thead>\n",
       "  <tbody>\n",
       "    <tr>\n",
       "      <th>0</th>\n",
       "      <td>A 2 bedroom flat</td>\n",
       "      <td>Amuwo Odofin Housing Estate close to Shoprite ...</td>\n",
       "      <td>₦26,000,000</td>\n",
       "      <td>2 beds</td>\n",
       "      <td>2 baths</td>\n",
       "      <td>2 Toilets</td>\n",
       "      <td>08081672062</td>\n",
       "    </tr>\n",
       "    <tr>\n",
       "      <th>1</th>\n",
       "      <td>spacious 6 bedroom duplex on about 2000sqm</td>\n",
       "      <td>Festac Amuwo Odofin Lagos</td>\n",
       "      <td>₦310,000,000</td>\n",
       "      <td>6 beds</td>\n",
       "      <td>5 baths</td>\n",
       "      <td>Toilets</td>\n",
       "      <td>08050383215</td>\n",
       "    </tr>\n",
       "    <tr>\n",
       "      <th>2</th>\n",
       "      <td>CORNER PIECE PLOT OF LAND</td>\n",
       "      <td>15th Avenue Festac Amuwo Odofin Lagos</td>\n",
       "      <td>₦30,000,000</td>\n",
       "      <td>0 beds</td>\n",
       "      <td>0 baths</td>\n",
       "      <td>0 Toilets</td>\n",
       "      <td>08030506346</td>\n",
       "    </tr>\n",
       "    <tr>\n",
       "      <th>3</th>\n",
       "      <td>DUPLEX</td>\n",
       "      <td>Festac Amuwo Odofin Lagos</td>\n",
       "      <td>₦140,000,000</td>\n",
       "      <td>0 beds</td>\n",
       "      <td>0 baths</td>\n",
       "      <td>0 Toilets</td>\n",
       "      <td>08062619955</td>\n",
       "    </tr>\n",
       "    <tr>\n",
       "      <th>4</th>\n",
       "      <td>Commercial land available</td>\n",
       "      <td>Very close to the beach Costal town Festac Amu...</td>\n",
       "      <td>₦250,000,000</td>\n",
       "      <td>0 beds</td>\n",
       "      <td>0 baths</td>\n",
       "      <td>0 Toilets</td>\n",
       "      <td>07032699800</td>\n",
       "    </tr>\n",
       "    <tr>\n",
       "      <th>...</th>\n",
       "      <td>...</td>\n",
       "      <td>...</td>\n",
       "      <td>...</td>\n",
       "      <td>...</td>\n",
       "      <td>...</td>\n",
       "      <td>...</td>\n",
       "      <td>...</td>\n",
       "    </tr>\n",
       "    <tr>\n",
       "      <th>541</th>\n",
       "      <td>Diamond Estate land Federal CofO</td>\n",
       "      <td>Festac Amuwo Odofin Lagos</td>\n",
       "      <td>₦7,000,000</td>\n",
       "      <td>beds</td>\n",
       "      <td>baths</td>\n",
       "      <td>Toilets</td>\n",
       "      <td>08160984499</td>\n",
       "    </tr>\n",
       "    <tr>\n",
       "      <th>542</th>\n",
       "      <td>Luxury Hotel Development</td>\n",
       "      <td>Festac Amuwo Odofin Lagos</td>\n",
       "      <td>₦350,000,000</td>\n",
       "      <td>beds</td>\n",
       "      <td>baths</td>\n",
       "      <td>Toilets</td>\n",
       "      <td>07035571555</td>\n",
       "    </tr>\n",
       "    <tr>\n",
       "      <th>543</th>\n",
       "      <td>BLOCK OF FLATS</td>\n",
       "      <td>Festac town. First Avenue 101 Festac Amuwo Odo...</td>\n",
       "      <td>₦135,000,000</td>\n",
       "      <td>beds</td>\n",
       "      <td>baths</td>\n",
       "      <td>Toilets</td>\n",
       "      <td>08168064058</td>\n",
       "    </tr>\n",
       "    <tr>\n",
       "      <th>544</th>\n",
       "      <td>Properties on a 2acres of land + an Extra 1 pl...</td>\n",
       "      <td>Festac town Festac Amuwo Odofin Lagos</td>\n",
       "      <td>₦600,000,000</td>\n",
       "      <td>10 beds</td>\n",
       "      <td>10 baths</td>\n",
       "      <td>10 Toilets</td>\n",
       "      <td>09061175705</td>\n",
       "    </tr>\n",
       "    <tr>\n",
       "      <th>545</th>\n",
       "      <td>7 Bedroom Duplex with a BQ of 2units of 3bedro...</td>\n",
       "      <td>Festac Amuwo Odofin Lagos</td>\n",
       "      <td>₦85,000,000</td>\n",
       "      <td>7 beds</td>\n",
       "      <td>0 baths</td>\n",
       "      <td>0 Toilets</td>\n",
       "      <td>07032493391</td>\n",
       "    </tr>\n",
       "  </tbody>\n",
       "</table>\n",
       "<p>546 rows × 7 columns</p>\n",
       "</div>"
      ],
      "text/plain": [
       "                                           Description  \\\n",
       "0                                    A 2 bedroom flat    \n",
       "1          spacious 6 bedroom duplex on about 2000sqm    \n",
       "2                            CORNER PIECE PLOT OF LAND   \n",
       "3                                               DUPLEX   \n",
       "4                            Commercial land available   \n",
       "..                                                 ...   \n",
       "541                   Diamond Estate land Federal CofO   \n",
       "542                           Luxury Hotel Development   \n",
       "543                                     BLOCK OF FLATS   \n",
       "544  Properties on a 2acres of land + an Extra 1 pl...   \n",
       "545  7 Bedroom Duplex with a BQ of 2units of 3bedro...   \n",
       "\n",
       "                                               Address         Price  \\\n",
       "0    Amuwo Odofin Housing Estate close to Shoprite ...   ₦26,000,000   \n",
       "1                            Festac Amuwo Odofin Lagos  ₦310,000,000   \n",
       "2                15th Avenue Festac Amuwo Odofin Lagos   ₦30,000,000   \n",
       "3                            Festac Amuwo Odofin Lagos  ₦140,000,000   \n",
       "4    Very close to the beach Costal town Festac Amu...  ₦250,000,000   \n",
       "..                                                 ...           ...   \n",
       "541                          Festac Amuwo Odofin Lagos    ₦7,000,000   \n",
       "542                          Festac Amuwo Odofin Lagos  ₦350,000,000   \n",
       "543  Festac town. First Avenue 101 Festac Amuwo Odo...  ₦135,000,000   \n",
       "544              Festac town Festac Amuwo Odofin Lagos  ₦600,000,000   \n",
       "545                          Festac Amuwo Odofin Lagos   ₦85,000,000   \n",
       "\n",
       "    No of beds No of baths No of toilets      Contact  \n",
       "0       2 beds     2 baths     2 Toilets  08081672062  \n",
       "1       6 beds     5 baths       Toilets  08050383215  \n",
       "2       0 beds     0 baths     0 Toilets  08030506346  \n",
       "3       0 beds     0 baths     0 Toilets  08062619955  \n",
       "4       0 beds     0 baths     0 Toilets  07032699800  \n",
       "..         ...         ...           ...          ...  \n",
       "541       beds       baths       Toilets  08160984499  \n",
       "542       beds       baths       Toilets  07035571555  \n",
       "543       beds       baths       Toilets  08168064058  \n",
       "544    10 beds    10 baths    10 Toilets  09061175705  \n",
       "545     7 beds     0 baths     0 Toilets  07032493391  \n",
       "\n",
       "[546 rows x 7 columns]"
      ]
     },
     "execution_count": 7,
     "metadata": {},
     "output_type": "execute_result"
    }
   ],
   "source": [
    "df"
   ]
  },
  {
   "cell_type": "code",
   "execution_count": 8,
   "id": "faef89a2",
   "metadata": {},
   "outputs": [],
   "source": [
    "#convert dataframe to csv file\n",
    "df.to_csv('Output.csv')"
   ]
  },
  {
   "cell_type": "code",
   "execution_count": null,
   "id": "5a819030",
   "metadata": {},
   "outputs": [],
   "source": []
  }
 ],
 "metadata": {
  "kernelspec": {
   "display_name": "Python 3 (ipykernel)",
   "language": "python",
   "name": "python3"
  },
  "language_info": {
   "codemirror_mode": {
    "name": "ipython",
    "version": 3
   },
   "file_extension": ".py",
   "mimetype": "text/x-python",
   "name": "python",
   "nbconvert_exporter": "python",
   "pygments_lexer": "ipython3",
   "version": "3.10.0"
  }
 },
 "nbformat": 4,
 "nbformat_minor": 5
}
